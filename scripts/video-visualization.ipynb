{
 "cells": [
  {
   "cell_type": "code",
   "execution_count": 1,
   "id": "handled-cathedral",
   "metadata": {},
   "outputs": [
    {
     "name": "stdout",
     "output_type": "stream",
     "text": [
      "/home/luke/projects/experiments/pixmatch\n"
     ]
    }
   ],
   "source": [
    "%cd /home/luke/projects/experiments/pixmatch"
   ]
  },
  {
   "cell_type": "code",
   "execution_count": 2,
   "id": "found-production",
   "metadata": {},
   "outputs": [],
   "source": [
    "import os\n",
    "import random\n",
    "import logging\n",
    "from pathlib import Path\n",
    "import torch\n",
    "import torch.nn as nn\n",
    "import torch.nn.functional as F\n",
    "from torch.utils.data.dataloader import DataLoader\n",
    "from tqdm import tqdm, trange\n",
    "import numpy as np\n",
    "from torch.utils.tensorboard import SummaryWriter\n",
    "from PIL import Image\n",
    "\n",
    "import hydra\n",
    "from hydra.experimental import initialize, compose\n",
    "from omegaconf import OmegaConf, DictConfig\n",
    "\n",
    "from datasets.cityscapes_Dataset import DemoVideo_City_Dataset, City_Dataset, inv_preprocess, decode_labels\n",
    "from datasets.gta5_Dataset import GTA5_Dataset\n",
    "from datasets.synthia_Dataset import SYNTHIA_Dataset\n",
    "from models import get_model\n",
    "from models.ema import EMA\n",
    "from utils.eval import Eval, synthia_set_16, synthia_set_13\n",
    "from main import Trainer"
   ]
  },
  {
   "cell_type": "code",
   "execution_count": 37,
   "id": "direct-concept",
   "metadata": {},
   "outputs": [],
   "source": [
    "# Parameters\n",
    "checkpoint_path = 'pretrained/GTA5_source.pth'\n",
    "output_dir = Path('tmp/demoVideo_outputs/GTA5_source')\n",
    "output_dir.mkdir(exist_ok=True, parents=True)"
   ]
  },
  {
   "cell_type": "code",
   "execution_count": 3,
   "id": "unauthorized-airplane",
   "metadata": {},
   "outputs": [],
   "source": [
    "# Initialize hydra\n",
    "with initialize(config_path='../configs'):\n",
    "    cfg: DictConfig = compose(config_name=\"gta5.yaml\", overrides=[\"wandb=False\", f\"model.checkpoint={checkpoint_path}\"])"
   ]
  },
  {
   "cell_type": "code",
   "execution_count": 4,
   "id": "constant-pasta",
   "metadata": {},
   "outputs": [],
   "source": [
    "# # Print config\n",
    "# print(OmegaConf.to_yaml(cfg))"
   ]
  },
  {
   "cell_type": "code",
   "execution_count": 5,
   "id": "lesser-request",
   "metadata": {},
   "outputs": [
    {
     "name": "stderr",
     "output_type": "stream",
     "text": [
      "/home/luke/.miniconda/envs/new/lib/python3.8/site-packages/torch/optim/sgd.py:68: UserWarning: optimizer contains a parameter group with duplicate parameters; in future, this will cause an error; see github.com/pytorch/pytorch/issues/40967 for more information\n",
      "  super(SGD, self).__init__(params, defaults)\n"
     ]
    },
    {
     "name": "stdout",
     "output_type": "stream",
     "text": [
      "12403 num images in GTA5 train set have been loaded.\n",
      "6382 num images in GTA5 val set have been loaded.\n",
      "2975 num images in Cityscapes train set have been loaded.\n",
      "500 num images in Cityscapes val set have been loaded.\n"
     ]
    }
   ],
   "source": [
    "# Seeds\n",
    "random.seed(cfg.seed)\n",
    "np.random.seed(cfg.seed)\n",
    "torch.random.manual_seed(cfg.seed)\n",
    "\n",
    "# Logger\n",
    "logger = logging.getLogger(__name__)\n",
    "logger.setLevel(logging.INFO)\n",
    "writer = SummaryWriter(cfg.name)\n",
    "\n",
    "# Trainer\n",
    "trainer = Trainer(cfg=cfg, logger=logger, writer=writer)\n",
    "\n",
    "# Load pretrained checkpoint\n",
    "if cfg.model.checkpoint:\n",
    "    assert Path(cfg.model.checkpoint).is_file(), f'not a file: {cfg.model.checkpoint}'\n",
    "    trainer.load_checkpoint(cfg.model.checkpoint)"
   ]
  },
  {
   "cell_type": "code",
   "execution_count": 6,
   "id": "hawaiian-newcastle",
   "metadata": {},
   "outputs": [
    {
     "name": "stdout",
     "output_type": "stream",
     "text": [
      "Using device: cuda:0\n"
     ]
    }
   ],
   "source": [
    "# PyTorch setup\n",
    "torch.set_grad_enabled(False)\n",
    "device = trainer.model.conv1.weight.device\n",
    "print(f'Using device: {device}')"
   ]
  },
  {
   "cell_type": "code",
   "execution_count": 39,
   "id": "immediate-ballot",
   "metadata": {},
   "outputs": [
    {
     "name": "stderr",
     "output_type": "stream",
     "text": [
      "\r",
      "  0%|          | 0/2899 [00:00<?, ?it/s]"
     ]
    },
    {
     "name": "stdout",
     "output_type": "stream",
     "text": [
      "2899 num images in Cityscapes demoVideo set have been loaded.\n"
     ]
    },
    {
     "name": "stderr",
     "output_type": "stream",
     "text": [
      "\r",
      "  0%|          | 1/2899 [00:01<59:35,  1.23s/it]"
     ]
    },
    {
     "name": "stdout",
     "output_type": "stream",
     "text": [
      "Saved image to /home/luke/projects/experiments/pixmatch/datasets/cityscapes/leftImg8bit/demoVideo/stuttgart_00/stuttgart_00_000000_000436_leftImg8bit.png\n"
     ]
    },
    {
     "name": "stderr",
     "output_type": "stream",
     "text": [
      "\r",
      "  0%|          | 2/2899 [00:01<44:45,  1.08it/s]"
     ]
    },
    {
     "name": "stdout",
     "output_type": "stream",
     "text": [
      "Saved image to /home/luke/projects/experiments/pixmatch/datasets/cityscapes/leftImg8bit/demoVideo/stuttgart_00/stuttgart_00_000000_000475_leftImg8bit.png\n"
     ]
    },
    {
     "name": "stderr",
     "output_type": "stream",
     "text": [
      "\r",
      "  0%|          | 3/2899 [00:02<39:31,  1.22it/s]"
     ]
    },
    {
     "name": "stdout",
     "output_type": "stream",
     "text": [
      "Saved image to /home/luke/projects/experiments/pixmatch/datasets/cityscapes/leftImg8bit/demoVideo/stuttgart_00/stuttgart_00_000000_000578_leftImg8bit.png\n"
     ]
    },
    {
     "name": "stderr",
     "output_type": "stream",
     "text": [
      "\r",
      "  0%|          | 4/2899 [00:03<37:45,  1.28it/s]"
     ]
    },
    {
     "name": "stdout",
     "output_type": "stream",
     "text": [
      "Saved image to /home/luke/projects/experiments/pixmatch/datasets/cityscapes/leftImg8bit/demoVideo/stuttgart_00/stuttgart_00_000000_000048_leftImg8bit.png\n"
     ]
    },
    {
     "name": "stderr",
     "output_type": "stream",
     "text": [
      "  0%|          | 4/2899 [00:03<44:22,  1.09it/s]\n"
     ]
    }
   ],
   "source": [
    "# This code is adapted from the `validate` function\n",
    "\n",
    "def tensor_to_np_image(t: torch.Tensor):\n",
    "    return (t.detach().cpu().numpy().transpose(1,2,0) * 255).astype(np.uint8)\n",
    "\n",
    "# Params\n",
    "vis_images = 4\n",
    "\n",
    "# Evaluating\n",
    "trainer.model.eval()\n",
    "\n",
    "# Create dataloader for visualization\n",
    "vis_dataset = DemoVideo_City_Dataset(split='demoVideo', **cfg.data.target.kwargs)\n",
    "vis_loader = DataLoader(vis_dataset, shuffle=False, drop_last=False, **cfg.data.loader.kwargs)\n",
    "\n",
    "# Loop\n",
    "for i, (x, x_filename, idx) in enumerate(tqdm(vis_loader)):\n",
    "    if i >= vis_images:\n",
    "        break\n",
    "        \n",
    "    # Forward\n",
    "    pred = trainer.model(x.to(device))\n",
    "    if isinstance(pred, tuple):\n",
    "        pred = pred[0]\n",
    "    pred = pred.to('cpu')\n",
    "\n",
    "    # Convert to numpy\n",
    "    argpred = np.argmax(pred.data.cpu().numpy(), axis=1)\n",
    "\n",
    "    # Convert to images\n",
    "    images_inv = inv_preprocess(x.clone().cpu(), numpy_transform=True)\n",
    "    preds_colors = decode_labels(argpred)\n",
    "    for index, (img_color, pred_color) in enumerate(zip(images_inv, preds_colors)):\n",
    "        output_path = str(output_dir / x_filename[0])\n",
    "        Image.fromarray(tensor_to_np_image(pred_color)).save(output_path)\n",
    "        print(f'Saved image to {output_path}')"
   ]
  }
 ],
 "metadata": {
  "kernelspec": {
   "display_name": "Python 3",
   "language": "python",
   "name": "python3"
  },
  "language_info": {
   "codemirror_mode": {
    "name": "ipython",
    "version": 3
   },
   "file_extension": ".py",
   "mimetype": "text/x-python",
   "name": "python",
   "nbconvert_exporter": "python",
   "pygments_lexer": "ipython3",
   "version": "3.8.8"
  }
 },
 "nbformat": 4,
 "nbformat_minor": 5
}
